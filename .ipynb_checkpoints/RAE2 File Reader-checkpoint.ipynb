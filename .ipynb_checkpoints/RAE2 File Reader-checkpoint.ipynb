{
 "cells": [
  {
   "cell_type": "code",
   "execution_count": 1,
   "id": "d36543f1-a6c5-46fb-a0d0-2b5ec28f1eb4",
   "metadata": {},
   "outputs": [],
   "source": [
    "import numpy as np\n",
    "import struct\n",
    "import glob\n",
    "import sys\n",
    "import csv"
   ]
  },
  {
   "cell_type": "code",
   "execution_count": 2,
   "id": "c211996d-9bc3-43b1-8338-69d6d2805477",
   "metadata": {},
   "outputs": [
    {
     "name": "stdout",
     "output_type": "stream",
     "text": [
      "C:\\Users\\adamf\\Documents\\PhD\\Diffraction\\Files\\FILE_DS4293_001.DAT\n"
     ]
    }
   ],
   "source": [
    "filename = glob.glob(r'C:\\Users\\adamf\\Documents\\PhD\\Diffraction\\Files\\*.DAT')[0]\n",
    "print(filename)"
   ]
  },
  {
   "cell_type": "code",
   "execution_count": 3,
   "id": "569d93f5-715f-42b4-bfbe-3bf46d80ee51",
   "metadata": {},
   "outputs": [
    {
     "name": "stdout",
     "output_type": "stream",
     "text": [
      "<class 'bytes'> 1811688\n"
     ]
    }
   ],
   "source": [
    "with open(filename, 'rb') as f:\n",
    "    data = f.read()\n",
    "    print(type(data), len(data))"
   ]
  },
  {
   "cell_type": "code",
   "execution_count": 4,
   "id": "287f9b57-82d2-445d-acb4-2865a811ed55",
   "metadata": {},
   "outputs": [
    {
     "name": "stdout",
     "output_type": "stream",
     "text": [
      "(730712, 75905028, 6, 3273548713)\n",
      "(730712,)\n"
     ]
    }
   ],
   "source": [
    "#for i in range(4):\n",
    "#    print(i, struct.unpack('<4I', data[i:16+i]))\n",
    "print(struct.unpack('>4I', data[8:16+8]))\n",
    "print(struct.unpack('>I', data[8:8+4]))"
   ]
  },
  {
   "cell_type": "code",
   "execution_count": 5,
   "id": "5960d25a-43b9-4afc-b32b-1168bc24476d",
   "metadata": {},
   "outputs": [],
   "source": [
    "class Rae2File:\n",
    "    def __init__(self, filename):\n",
    "        with open(filename, 'rb') as f:\n",
    "            self.raw_data = f.read()  # skip first junk bytes\n",
    "        self.offset = 4\n",
    "\n",
    "    def read_date(self):    \n",
    "        i = self.offset\n",
    "        self.offset += 4\n",
    "        date = struct.unpack('>I', self.raw_data[i:i+4])\n",
    "        self.offset += 4\n",
    "        return date\n",
    "        \n",
    "    def read_block(self):\n",
    "        i = self.offset\n",
    "        assert len(self.raw_data[i:]) > 4 * 28\n",
    "        ms, fq_band = struct.unpack('>II', self.raw_data[i:i+8])\n",
    "        i += 8\n",
    "        rdata = struct.unpack('>26f', self.raw_data[i:i+4*26])\n",
    "        self.offset += 4 * 28\n",
    "        return ms, fq_band, np.array(rdata)\n",
    "\n",
    "    def read_logical_record(self, cnt=8):\n",
    "        #self.offset = self.block_start\n",
    "        date = self.read_date()\n",
    "        blocks = []\n",
    "        for i in range(cnt):\n",
    "            blocks.append(self.read_block())\n",
    "        temp = self.read_temp()\n",
    "        return date, blocks, temp\n",
    "        \n",
    "    def read_temp(self):\n",
    "        temp = struct.unpack('>I', self.raw_data[self.offset:self.offset+4])\n",
    "        self.offset += 4\n",
    "        return temp\n",
    "\n",
    "    def read_physical_record(self, cnt=34):\n",
    "        data = []\n",
    "        for i in range(cnt):\n",
    "            data.append(self.read_logical_record())\n",
    "        self.offset += 4\n",
    "        return data\n",
    "\n",
    "    def read_file(self):\n",
    "        data = []\n",
    "        while True:\n",
    "            try:\n",
    "                data.append(self.read_physical_record())\n",
    "            except(AssertionError):\n",
    "                break\n",
    "        return data"
   ]
  },
  {
   "cell_type": "code",
   "execution_count": 6,
   "id": "1c9e8537-db38-4bb0-a3e2-731bba4d8a01",
   "metadata": {},
   "outputs": [],
   "source": [
    "f = Rae2File(filename)"
   ]
  },
  {
   "cell_type": "code",
   "execution_count": 7,
   "id": "af4d5920-3a00-4170-89e7-d5b6fce004c5",
   "metadata": {},
   "outputs": [
    {
     "name": "stdout",
     "output_type": "stream",
     "text": [
      "58\n"
     ]
    }
   ],
   "source": [
    "data = f.read_file()\n",
    "print(len(data))\n",
    "#hex(73)\n",
    "#hex(730615)"
   ]
  },
  {
   "cell_type": "code",
   "execution_count": 13,
   "id": "8952e477-807c-463e-be42-9f0da5decfdc",
   "metadata": {},
   "outputs": [
    {
     "data": {
      "text/plain": [
       "(730715,)"
      ]
     },
     "execution_count": 13,
     "metadata": {},
     "output_type": "execute_result"
    }
   ],
   "source": [
    "data[-1][-1][0]"
   ]
  },
  {
   "cell_type": "code",
   "execution_count": null,
   "id": "a65b05d6",
   "metadata": {},
   "outputs": [],
   "source": [
    "def dataToCSV(data,filename):\n",
    "    with open(filename,'w',newline = '') as csvfile:\n",
    "        swriter = csv.writer(csvfile)\n",
    "        spamwriter.writerow(['Date (YYMMDD)','Milliseconds of Day', 'Freq(MHz)','Spacecraft X (KM)', 'Spacecraft Y(KM)',\n",
    "                             'Spacecraft Z (KM)','Unit Vector X','Unit Vector Y','Unit Vector Z','RA','Dec']+['Coarse RV-1']*7\n",
    "                           +['Fine RV-1']*2++['Coarse RV-2']*7+['Fine RV-2']*2+['Temperature'])\n",
    "        for i in range(data):\n",
    "            for j in range(data[j]):\n",
    "            "
   ]
  },
  {
   "cell_type": "code",
   "execution_count": 168,
   "id": "68831a60-9b45-43bf-8cac-e47dcef2141c",
   "metadata": {},
   "outputs": [
    {
     "data": {
      "text/plain": [
       "(1811700, 1811688)"
      ]
     },
     "execution_count": 168,
     "metadata": {},
     "output_type": "execute_result"
    }
   ],
   "source": [
    "f.offset, len(f.raw_data)"
   ]
  },
  {
   "cell_type": "code",
   "execution_count": 39,
   "id": "699bfe96-5d82-4d45-b993-489ba9f6ab34",
   "metadata": {},
   "outputs": [
    {
     "name": "stderr",
     "output_type": "stream",
     "text": [
      "'hd' is not recognized as an internal or external command,\n",
      "operable program or batch file.\n"
     ]
    }
   ],
   "source": [
    "for i in range"
   ]
  },
  {
   "cell_type": "code",
   "execution_count": null,
   "id": "4113fb67-b334-4a57-85a0-b4664b36de8e",
   "metadata": {},
   "outputs": [],
   "source": []
  }
 ],
 "metadata": {
  "kernelspec": {
   "display_name": "Python 3",
   "language": "python",
   "name": "python3"
  },
  "language_info": {
   "codemirror_mode": {
    "name": "ipython",
    "version": 3
   },
   "file_extension": ".py",
   "mimetype": "text/x-python",
   "name": "python",
   "nbconvert_exporter": "python",
   "pygments_lexer": "ipython3",
   "version": "3.8.8"
  }
 },
 "nbformat": 4,
 "nbformat_minor": 5
}

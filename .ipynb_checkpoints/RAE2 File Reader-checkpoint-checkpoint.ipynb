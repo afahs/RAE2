{
 "cells": [
  {
   "cell_type": "code",
   "execution_count": 6,
   "id": "d36543f1-a6c5-46fb-a0d0-2b5ec28f1eb4",
   "metadata": {},
   "outputs": [],
   "source": [
    "import numpy as np\n",
    "import struct\n",
    "import glob\n",
    "import sys"
   ]
  },
  {
   "cell_type": "code",
   "execution_count": 7,
   "id": "c211996d-9bc3-43b1-8338-69d6d2805477",
   "metadata": {},
   "outputs": [
    {
     "ename": "IndexError",
     "evalue": "list index out of range",
     "output_type": "error",
     "traceback": [
      "\u001b[0;31m---------------------------------------------------------------------------\u001b[0m",
      "\u001b[0;31mIndexError\u001b[0m                                Traceback (most recent call last)",
      "Cell \u001b[0;32mIn[7], line 1\u001b[0m\n\u001b[0;32m----> 1\u001b[0m filename \u001b[38;5;241m=\u001b[39m \u001b[43mglob\u001b[49m\u001b[38;5;241;43m.\u001b[39;49m\u001b[43mglob\u001b[49m\u001b[43m(\u001b[49m\u001b[38;5;124;43m'\u001b[39;49m\u001b[38;5;124;43m/users/bale/dropbox/RAD/Ryle-Vonberg/FILE_DS4293_005.DAT\u001b[39;49m\u001b[38;5;124;43m'\u001b[39;49m\u001b[43m)\u001b[49m\u001b[43m[\u001b[49m\u001b[38;5;241;43m0\u001b[39;49m\u001b[43m]\u001b[49m\n\u001b[1;32m      2\u001b[0m \u001b[38;5;28mprint\u001b[39m(filename)\n",
      "\u001b[0;31mIndexError\u001b[0m: list index out of range"
     ]
    }
   ],
   "source": [
    "filename = glob.glob('/users/bale/dropbox/RAD/Ryle-Vonberg/FILE_DS4293_005.DAT')[0]\n",
    "print(filename)"
   ]
  },
  {
   "cell_type": "code",
   "execution_count": null,
   "id": "569d93f5-715f-42b4-bfbe-3bf46d80ee51",
   "metadata": {},
   "outputs": [],
   "source": [
    "with open(filename, 'rb') as f:\n",
    "    data = f.read()\n",
    "    print(type(data), len(data))"
   ]
  },
  {
   "cell_type": "code",
   "execution_count": null,
   "id": "287f9b57-82d2-445d-acb4-2865a811ed55",
   "metadata": {},
   "outputs": [],
   "source": [
    "#for i in range(4):\n",
    "#    print(i, struct.unpack('<4I', data[i:16+i]))\n",
    "print(struct.unpack('>4I', data[8:16+8]))"
   ]
  },
  {
   "cell_type": "code",
   "execution_count": null,
   "id": "5960d25a-43b9-4afc-b32b-1168bc24476d",
   "metadata": {},
   "outputs": [],
   "source": [
    "class Rae2File:\n",
    "    def __init__(self, filename):\n",
    "        with open(filename, 'rb') as f:\n",
    "            self.raw_data = f.read()  # skip first junk bytes\n",
    "        self.offset = 4\n",
    "\n",
    "    def read_date(self):\n",
    "        self.offset += 4\n",
    "        date = struct.unpack('>I', self.raw_data[i:i+4])\n",
    "        self.offset += 4\n",
    "        return date\n",
    "        \n",
    "    def read_block(self):\n",
    "        i = self.offset\n",
    "        assert len(self.raw_data[i:]) > 4 * 28\n",
    "        ms, fq_band = struct.unpack('>II', self.raw_data[i:i+8])\n",
    "        i += 8\n",
    "        rdata = struct.unpack('>26f', self.raw_data[i:i+4*26])\n",
    "        self.offset += 4 * 28\n",
    "        return ms, fq_band, np.array(rdata)\n",
    "\n",
    "    def read_logical_record(self, cnt=8):\n",
    "        #self.offset = self.block_start\n",
    "        date = self.read_date()\n",
    "        blocks = []\n",
    "        for i in range(cnt):\n",
    "            blocks.append(self.read_block())\n",
    "        temp = self.read_temp()\n",
    "        return date, blocks, temp\n",
    "        \n",
    "    def read_temp(self):\n",
    "        temp = struct.unpack('>I', self.raw_data[self.offset:self.offset+4])\n",
    "        self.offset += 4\n",
    "        return temp\n",
    "\n",
    "    def read_physical_record(self, cnt=35):\n",
    "        data = []\n",
    "        for i in range(cnt):\n",
    "            data.append(self.read_logical_record())\n",
    "        self.offset += 4\n",
    "        return data\n",
    "\n",
    "    def read_file(self):\n",
    "        data = []\n",
    "        while True:\n",
    "            try:\n",
    "                data.append(self.read_physical_record())\n",
    "            except(AssertionError):\n",
    "                break\n",
    "        return data"
   ]
  },
  {
   "cell_type": "code",
   "execution_count": null,
   "id": "1c9e8537-db38-4bb0-a3e2-731bba4d8a01",
   "metadata": {},
   "outputs": [],
   "source": [
    "f = Rae2File(filename)"
   ]
  },
  {
   "cell_type": "code",
   "execution_count": null,
   "id": "af4d5920-3a00-4170-89e7-d5b6fce004c5",
   "metadata": {},
   "outputs": [],
   "source": [
    "data = f.read_file()\n",
    "print(len(data))\n",
    "#hex(73)\n",
    "#hex(730615)"
   ]
  },
  {
   "cell_type": "code",
   "execution_count": null,
   "id": "8952e477-807c-463e-be42-9f0da5decfdc",
   "metadata": {},
   "outputs": [],
   "source": [
    "data[-1][-1]"
   ]
  },
  {
   "cell_type": "code",
   "execution_count": null,
   "id": "68831a60-9b45-43bf-8cac-e47dcef2141c",
   "metadata": {},
   "outputs": [],
   "source": [
    "f.offset, len(f.raw_data)"
   ]
  },
  {
   "cell_type": "code",
   "execution_count": null,
   "id": "699bfe96-5d82-4d45-b993-489ba9f6ab34",
   "metadata": {},
   "outputs": [],
   "source": [
    "!hd $filename"
   ]
  },
  {
   "cell_type": "code",
   "execution_count": null,
   "id": "4113fb67-b334-4a57-85a0-b4664b36de8e",
   "metadata": {},
   "outputs": [],
   "source": []
  }
 ],
 "metadata": {
  "kernelspec": {
   "display_name": "Python 3",
   "language": "python",
   "name": "python3"
  },
  "language_info": {
   "codemirror_mode": {
    "name": "ipython",
    "version": 3
   },
   "file_extension": ".py",
   "mimetype": "text/x-python",
   "name": "python",
   "nbconvert_exporter": "python",
   "pygments_lexer": "ipython3",
   "version": "3.8.8"
  }
 },
 "nbformat": 4,
 "nbformat_minor": 5
}

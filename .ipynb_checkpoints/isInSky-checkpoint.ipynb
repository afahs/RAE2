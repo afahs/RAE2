{
 "cells": [
  {
   "cell_type": "code",
   "execution_count": 1,
   "id": "e32b3555",
   "metadata": {},
   "outputs": [
    {
     "ename": "ModuleNotFoundError",
     "evalue": "No module named 'lunarsky'",
     "output_type": "error",
     "traceback": [
      "\u001b[1;31m---------------------------------------------------------------------------\u001b[0m",
      "\u001b[1;31mModuleNotFoundError\u001b[0m                       Traceback (most recent call last)",
      "\u001b[1;32m<ipython-input-1-cb8071333989>\u001b[0m in \u001b[0;36m<module>\u001b[1;34m\u001b[0m\n\u001b[0;32m      3\u001b[0m \u001b[1;32mimport\u001b[0m \u001b[0mastropy\u001b[0m\u001b[1;33m.\u001b[0m\u001b[0munits\u001b[0m \u001b[1;32mas\u001b[0m \u001b[0mu\u001b[0m\u001b[1;33m\u001b[0m\u001b[1;33m\u001b[0m\u001b[0m\n\u001b[0;32m      4\u001b[0m \u001b[1;32mimport\u001b[0m \u001b[0mnumpy\u001b[0m \u001b[1;32mas\u001b[0m \u001b[0mnp\u001b[0m\u001b[1;33m\u001b[0m\u001b[1;33m\u001b[0m\u001b[0m\n\u001b[1;32m----> 5\u001b[1;33m \u001b[1;32mimport\u001b[0m \u001b[0mlunarsky\u001b[0m \u001b[1;32mas\u001b[0m \u001b[0mls\u001b[0m\u001b[1;33m\u001b[0m\u001b[1;33m\u001b[0m\u001b[0m\n\u001b[0m\u001b[0;32m      6\u001b[0m \u001b[1;32mimport\u001b[0m \u001b[0mpandas\u001b[0m \u001b[1;32mas\u001b[0m \u001b[0mpd\u001b[0m\u001b[1;33m\u001b[0m\u001b[1;33m\u001b[0m\u001b[0m\n\u001b[0;32m      7\u001b[0m \u001b[1;32mimport\u001b[0m \u001b[0mmatplotlib\u001b[0m\u001b[1;33m.\u001b[0m\u001b[0mpyplot\u001b[0m \u001b[1;32mas\u001b[0m \u001b[0mplt\u001b[0m\u001b[1;33m\u001b[0m\u001b[1;33m\u001b[0m\u001b[0m\n",
      "\u001b[1;31mModuleNotFoundError\u001b[0m: No module named 'lunarsky'"
     ]
    }
   ],
   "source": [
    "from astropy.time import Time\n",
    "from astropy.coordinates import SkyCoord, AltAz, get_body\n",
    "import astropy.units as u\n",
    "import numpy as np\n",
    "import lunarsky as ls\n",
    "import pandas as pd\n",
    "import matplotlib.pyplot as plt\n",
    "import os\n",
    "import glob"
   ]
  },
  {
   "cell_type": "code",
   "execution_count": null,
   "id": "91378973",
   "metadata": {},
   "outputs": [],
   "source": [
    "def raeIsInSky(location, source, time = '2024-01-01 00:00:00'):\n",
    "    #return -1 is blocked by moon, return 1 is possible occultation in the time, return 0 is in full view of detector\n",
    "    lunar_location = ls.MoonLocation(lat=location[0]*u.deg, lon=location[1]*u.deg, height=location[2]*u.m)\n",
    "    timeObj = Time(time)\n",
    "    altazFrame = ls.LunarTopo(obstime=timeObj, location=lunar_location)\n",
    "    src = SkyCoord(source[0], source[1], frame='icrs')\n",
    "    srcAltAz = src.transform_to(altazFrame)\n",
    "    moonCoord = get_body(\"moon\",time)\n",
    "    moonCoord = moonCoord.transform_to(altazFrame)\n",
    "    ang_sep = moonCoord.seperation(src)\n",
    "    theta = np.arcsin(1740e3/location[2]+1740e3)\n",
    "    if(np.abs(ang_sep-theta)<0.1*u.deg):\n",
    "        return 1\n",
    "    elif (ang_sep<theta):\n",
    "        return -1\n",
    "    else:\n",
    "        return 0"
   ]
  }
 ],
 "metadata": {
  "kernelspec": {
   "display_name": "Python 3",
   "language": "python",
   "name": "python3"
  },
  "language_info": {
   "codemirror_mode": {
    "name": "ipython",
    "version": 3
   },
   "file_extension": ".py",
   "mimetype": "text/x-python",
   "name": "python",
   "nbconvert_exporter": "python",
   "pygments_lexer": "ipython3",
   "version": "3.8.8"
  }
 },
 "nbformat": 4,
 "nbformat_minor": 5
}
